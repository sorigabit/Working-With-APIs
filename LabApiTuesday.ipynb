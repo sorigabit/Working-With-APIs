{
 "cells": [
  {
   "cell_type": "code",
   "execution_count": 1,
   "id": "2bce09ab",
   "metadata": {},
   "outputs": [
    {
     "name": "stdout",
     "output_type": "stream",
     "text": [
      "········\n"
     ]
    }
   ],
   "source": [
    "import requests\n",
    "import json\n",
    "import pandas as pd\n",
    "from pandas.io.json import json_normalize\n",
    "import getpass\n",
    "apikey = getpass.getpass()"
   ]
  },
  {
   "cell_type": "code",
   "execution_count": null,
   "id": "5d256d8b",
   "metadata": {},
   "outputs": [],
   "source": [
    "# keywatchmode = nP3UtiUHjnw3TH6WTZHuvsvBAtvIBZMHsiympnDV"
   ]
  },
  {
   "cell_type": "code",
   "execution_count": 34,
   "id": "f9fe582d",
   "metadata": {},
   "outputs": [],
   "source": [
    "response = requests.get('https://api.watchmode.com/v1/title/345534/details/?apiKey=nP3UtiUHjnw3TH6WTZHuvsvBAtvIBZMHsiympnDV&append_to_response=sources')"
   ]
  },
  {
   "cell_type": "code",
   "execution_count": 35,
   "id": "b951eec1",
   "metadata": {
    "scrolled": false
   },
   "outputs": [],
   "source": [
    "results = response.json()\n",
    "# results"
   ]
  },
  {
   "cell_type": "code",
   "execution_count": 36,
   "id": "2267b075",
   "metadata": {},
   "outputs": [
    {
     "data": {
      "text/plain": [
       "\"Seven noble families fight for control of the mythical land of Westeros. Friction between the houses leads to full-scale war. All while a very ancient evil awakens in the farthest north. Amidst the war, a neglected military order of misfits, the Night's Watch, is all that stands between the realms of men and icy horrors beyond.\""
      ]
     },
     "execution_count": 36,
     "metadata": {},
     "output_type": "execute_result"
    }
   ],
   "source": [
    "results['plot_overview']"
   ]
  },
  {
   "cell_type": "code",
   "execution_count": 37,
   "id": "ef0e3898",
   "metadata": {},
   "outputs": [
    {
     "data": {
      "text/plain": [
       "{'title_results': [{'resultType': 'title',\n",
       "   'id': 1394258,\n",
       "   'name': 'The Godfather',\n",
       "   'type': 'movie',\n",
       "   'year': 1972,\n",
       "   'imdb_id': 'tt0068646',\n",
       "   'tmdb_id': 238,\n",
       "   'tmdb_type': 'movie'},\n",
       "  {'resultType': 'title',\n",
       "   'id': 1394267,\n",
       "   'name': 'The Godfather Part II',\n",
       "   'type': 'movie',\n",
       "   'year': 1974,\n",
       "   'imdb_id': 'tt0071562',\n",
       "   'tmdb_id': 240,\n",
       "   'tmdb_type': 'movie'},\n",
       "  {'resultType': 'title',\n",
       "   'id': 1394268,\n",
       "   'name': 'The Godfather Part III',\n",
       "   'type': 'movie',\n",
       "   'year': 1990,\n",
       "   'imdb_id': 'tt0099674',\n",
       "   'tmdb_id': 242,\n",
       "   'tmdb_type': 'movie'},\n",
       "  {'resultType': 'title',\n",
       "   'id': 544351,\n",
       "   'name': 'The Godfather Saga',\n",
       "   'type': 'tv_miniseries',\n",
       "   'year': 1977,\n",
       "   'imdb_id': 'tt0809488',\n",
       "   'tmdb_id': 39651,\n",
       "   'tmdb_type': 'tv'},\n",
       "  {'resultType': 'title',\n",
       "   'id': 4104613,\n",
       "   'name': 'The Godfather Family: A Look Inside',\n",
       "   'type': 'tv_movie',\n",
       "   'year': 1990,\n",
       "   'imdb_id': 'tt0101961',\n",
       "   'tmdb_id': 56205,\n",
       "   'tmdb_type': 'movie'},\n",
       "  {'resultType': 'title',\n",
       "   'id': 4104614,\n",
       "   'name': 'The Godfather Legacy',\n",
       "   'type': 'tv_movie',\n",
       "   'year': 2012,\n",
       "   'imdb_id': 'tt2311160',\n",
       "   'tmdb_id': 294636,\n",
       "   'tmdb_type': 'movie'},\n",
       "  {'resultType': 'title',\n",
       "   'id': 2751251,\n",
       "   'name': 'The Godfather',\n",
       "   'type': 'short_film',\n",
       "   'year': 2023,\n",
       "   'imdb_id': 'tt13652970',\n",
       "   'tmdb_id': 1050474,\n",
       "   'tmdb_type': 'movie'},\n",
       "  {'resultType': 'title',\n",
       "   'id': 1394269,\n",
       "   'name': 'The Godfathers of Hardcore',\n",
       "   'type': 'movie',\n",
       "   'year': 2018,\n",
       "   'imdb_id': 'tt4659728',\n",
       "   'tmdb_id': 485918,\n",
       "   'tmdb_type': 'movie'},\n",
       "  {'resultType': 'title',\n",
       "   'id': 3194364,\n",
       "   'name': 'The Godfather',\n",
       "   'type': 'tv_series',\n",
       "   'year': 2022,\n",
       "   'imdb_id': 'tt26629467',\n",
       "   'tmdb_id': 216645,\n",
       "   'tmdb_type': 'tv'},\n",
       "  {'resultType': 'title',\n",
       "   'id': 4104615,\n",
       "   'name': 'The Godfather and the Mob',\n",
       "   'type': 'tv_movie',\n",
       "   'year': 2006,\n",
       "   'imdb_id': 'tt0819367',\n",
       "   'tmdb_id': 409523,\n",
       "   'tmdb_type': 'movie'},\n",
       "  {'resultType': 'title',\n",
       "   'id': 1582536,\n",
       "   'name': 'The Godfather and His Goddaughters',\n",
       "   'type': 'movie',\n",
       "   'year': 1974,\n",
       "   'imdb_id': 'tt0070499',\n",
       "   'tmdb_id': 611802,\n",
       "   'tmdb_type': 'movie'},\n",
       "  {'resultType': 'title',\n",
       "   'id': 1553710,\n",
       "   'name': \"The Godfather's Friend\",\n",
       "   'type': 'movie',\n",
       "   'year': 1972,\n",
       "   'imdb_id': 'tt0068202',\n",
       "   'tmdb_id': 260892,\n",
       "   'tmdb_type': 'movie'},\n",
       "  {'resultType': 'title',\n",
       "   'id': 3122978,\n",
       "   'name': 'The Godfather',\n",
       "   'type': 'tv_series',\n",
       "   'year': 2017,\n",
       "   'imdb_id': 'tt6439506',\n",
       "   'tmdb_id': 72989,\n",
       "   'tmdb_type': 'tv'},\n",
       "  {'resultType': 'title',\n",
       "   'id': 1394262,\n",
       "   'name': 'The Godfather of Green Bay',\n",
       "   'type': 'movie',\n",
       "   'year': 2005,\n",
       "   'imdb_id': 'tt0385727',\n",
       "   'tmdb_id': 73725,\n",
       "   'tmdb_type': 'movie'},\n",
       "  {'resultType': 'title',\n",
       "   'id': 1664244,\n",
       "   'name': 'The Godfathers of Mondo',\n",
       "   'type': 'movie',\n",
       "   'year': 2003,\n",
       "   'imdb_id': 'tt0384137',\n",
       "   'tmdb_id': 97227,\n",
       "   'tmdb_type': 'movie'},\n",
       "  {'resultType': 'title',\n",
       "   'id': 1576691,\n",
       "   'name': 'The Godfather of Disco',\n",
       "   'type': 'movie',\n",
       "   'year': 2007,\n",
       "   'imdb_id': 'tt1067108',\n",
       "   'tmdb_id': 598173,\n",
       "   'tmdb_type': 'movie'},\n",
       "  {'resultType': 'title',\n",
       "   'id': 1669407,\n",
       "   'name': 'The Godfather: When the Shooting Stopped',\n",
       "   'type': 'movie',\n",
       "   'year': 2008,\n",
       "   'imdb_id': 'tt5277996',\n",
       "   'tmdb_id': 779077,\n",
       "   'tmdb_type': 'movie'},\n",
       "  {'resultType': 'title',\n",
       "   'id': 1678630,\n",
       "   'name': 'The Godfather Buck',\n",
       "   'type': 'movie',\n",
       "   'year': 2022,\n",
       "   'imdb_id': 'tt13593766',\n",
       "   'tmdb_id': 949766,\n",
       "   'tmdb_type': 'movie'},\n",
       "  {'resultType': 'title',\n",
       "   'id': 1752098,\n",
       "   'name': 'The Godfather Trilogy',\n",
       "   'type': 'movie',\n",
       "   'year': 0,\n",
       "   'imdb_id': '',\n",
       "   'tmdb_id': 1188421,\n",
       "   'tmdb_type': 'movie'},\n",
       "  {'resultType': 'title',\n",
       "   'id': 2765621,\n",
       "   'name': 'The Godfather Comes to Sixth St.',\n",
       "   'type': 'short_film',\n",
       "   'year': 1976,\n",
       "   'imdb_id': 'tt0073054',\n",
       "   'tmdb_id': 1193591,\n",
       "   'tmdb_type': 'movie'}],\n",
       " 'people_results': []}"
      ]
     },
     "execution_count": 37,
     "metadata": {},
     "output_type": "execute_result"
    }
   ],
   "source": [
    "response1 = requests.get('https://api.watchmode.com/v1/search/?apiKey=nP3UtiUHjnw3TH6WTZHuvsvBAtvIBZMHsiympnDV&search_field=name&search_value=The%20Godfather')\n",
    "results1 = response1.json()\n",
    "results1"
   ]
  },
  {
   "cell_type": "code",
   "execution_count": 38,
   "id": "06c88d65",
   "metadata": {},
   "outputs": [
    {
     "data": {
      "text/plain": [
       "[{'resultType': 'title',\n",
       "  'id': 1394258,\n",
       "  'name': 'The Godfather',\n",
       "  'type': 'movie',\n",
       "  'year': 1972,\n",
       "  'imdb_id': 'tt0068646',\n",
       "  'tmdb_id': 238,\n",
       "  'tmdb_type': 'movie'},\n",
       " {'resultType': 'title',\n",
       "  'id': 1394267,\n",
       "  'name': 'The Godfather Part II',\n",
       "  'type': 'movie',\n",
       "  'year': 1974,\n",
       "  'imdb_id': 'tt0071562',\n",
       "  'tmdb_id': 240,\n",
       "  'tmdb_type': 'movie'},\n",
       " {'resultType': 'title',\n",
       "  'id': 1394268,\n",
       "  'name': 'The Godfather Part III',\n",
       "  'type': 'movie',\n",
       "  'year': 1990,\n",
       "  'imdb_id': 'tt0099674',\n",
       "  'tmdb_id': 242,\n",
       "  'tmdb_type': 'movie'},\n",
       " {'resultType': 'title',\n",
       "  'id': 544351,\n",
       "  'name': 'The Godfather Saga',\n",
       "  'type': 'tv_miniseries',\n",
       "  'year': 1977,\n",
       "  'imdb_id': 'tt0809488',\n",
       "  'tmdb_id': 39651,\n",
       "  'tmdb_type': 'tv'},\n",
       " {'resultType': 'title',\n",
       "  'id': 4104613,\n",
       "  'name': 'The Godfather Family: A Look Inside',\n",
       "  'type': 'tv_movie',\n",
       "  'year': 1990,\n",
       "  'imdb_id': 'tt0101961',\n",
       "  'tmdb_id': 56205,\n",
       "  'tmdb_type': 'movie'},\n",
       " {'resultType': 'title',\n",
       "  'id': 4104614,\n",
       "  'name': 'The Godfather Legacy',\n",
       "  'type': 'tv_movie',\n",
       "  'year': 2012,\n",
       "  'imdb_id': 'tt2311160',\n",
       "  'tmdb_id': 294636,\n",
       "  'tmdb_type': 'movie'},\n",
       " {'resultType': 'title',\n",
       "  'id': 2751251,\n",
       "  'name': 'The Godfather',\n",
       "  'type': 'short_film',\n",
       "  'year': 2023,\n",
       "  'imdb_id': 'tt13652970',\n",
       "  'tmdb_id': 1050474,\n",
       "  'tmdb_type': 'movie'},\n",
       " {'resultType': 'title',\n",
       "  'id': 1394269,\n",
       "  'name': 'The Godfathers of Hardcore',\n",
       "  'type': 'movie',\n",
       "  'year': 2018,\n",
       "  'imdb_id': 'tt4659728',\n",
       "  'tmdb_id': 485918,\n",
       "  'tmdb_type': 'movie'},\n",
       " {'resultType': 'title',\n",
       "  'id': 3194364,\n",
       "  'name': 'The Godfather',\n",
       "  'type': 'tv_series',\n",
       "  'year': 2022,\n",
       "  'imdb_id': 'tt26629467',\n",
       "  'tmdb_id': 216645,\n",
       "  'tmdb_type': 'tv'},\n",
       " {'resultType': 'title',\n",
       "  'id': 4104615,\n",
       "  'name': 'The Godfather and the Mob',\n",
       "  'type': 'tv_movie',\n",
       "  'year': 2006,\n",
       "  'imdb_id': 'tt0819367',\n",
       "  'tmdb_id': 409523,\n",
       "  'tmdb_type': 'movie'},\n",
       " {'resultType': 'title',\n",
       "  'id': 1582536,\n",
       "  'name': 'The Godfather and His Goddaughters',\n",
       "  'type': 'movie',\n",
       "  'year': 1974,\n",
       "  'imdb_id': 'tt0070499',\n",
       "  'tmdb_id': 611802,\n",
       "  'tmdb_type': 'movie'},\n",
       " {'resultType': 'title',\n",
       "  'id': 1553710,\n",
       "  'name': \"The Godfather's Friend\",\n",
       "  'type': 'movie',\n",
       "  'year': 1972,\n",
       "  'imdb_id': 'tt0068202',\n",
       "  'tmdb_id': 260892,\n",
       "  'tmdb_type': 'movie'},\n",
       " {'resultType': 'title',\n",
       "  'id': 3122978,\n",
       "  'name': 'The Godfather',\n",
       "  'type': 'tv_series',\n",
       "  'year': 2017,\n",
       "  'imdb_id': 'tt6439506',\n",
       "  'tmdb_id': 72989,\n",
       "  'tmdb_type': 'tv'},\n",
       " {'resultType': 'title',\n",
       "  'id': 1394262,\n",
       "  'name': 'The Godfather of Green Bay',\n",
       "  'type': 'movie',\n",
       "  'year': 2005,\n",
       "  'imdb_id': 'tt0385727',\n",
       "  'tmdb_id': 73725,\n",
       "  'tmdb_type': 'movie'},\n",
       " {'resultType': 'title',\n",
       "  'id': 1664244,\n",
       "  'name': 'The Godfathers of Mondo',\n",
       "  'type': 'movie',\n",
       "  'year': 2003,\n",
       "  'imdb_id': 'tt0384137',\n",
       "  'tmdb_id': 97227,\n",
       "  'tmdb_type': 'movie'},\n",
       " {'resultType': 'title',\n",
       "  'id': 1576691,\n",
       "  'name': 'The Godfather of Disco',\n",
       "  'type': 'movie',\n",
       "  'year': 2007,\n",
       "  'imdb_id': 'tt1067108',\n",
       "  'tmdb_id': 598173,\n",
       "  'tmdb_type': 'movie'},\n",
       " {'resultType': 'title',\n",
       "  'id': 1669407,\n",
       "  'name': 'The Godfather: When the Shooting Stopped',\n",
       "  'type': 'movie',\n",
       "  'year': 2008,\n",
       "  'imdb_id': 'tt5277996',\n",
       "  'tmdb_id': 779077,\n",
       "  'tmdb_type': 'movie'},\n",
       " {'resultType': 'title',\n",
       "  'id': 1678630,\n",
       "  'name': 'The Godfather Buck',\n",
       "  'type': 'movie',\n",
       "  'year': 2022,\n",
       "  'imdb_id': 'tt13593766',\n",
       "  'tmdb_id': 949766,\n",
       "  'tmdb_type': 'movie'},\n",
       " {'resultType': 'title',\n",
       "  'id': 1752098,\n",
       "  'name': 'The Godfather Trilogy',\n",
       "  'type': 'movie',\n",
       "  'year': 0,\n",
       "  'imdb_id': '',\n",
       "  'tmdb_id': 1188421,\n",
       "  'tmdb_type': 'movie'},\n",
       " {'resultType': 'title',\n",
       "  'id': 2765621,\n",
       "  'name': 'The Godfather Comes to Sixth St.',\n",
       "  'type': 'short_film',\n",
       "  'year': 1976,\n",
       "  'imdb_id': 'tt0073054',\n",
       "  'tmdb_id': 1193591,\n",
       "  'tmdb_type': 'movie'}]"
      ]
     },
     "execution_count": 38,
     "metadata": {},
     "output_type": "execute_result"
    }
   ],
   "source": [
    "results1['title_results']"
   ]
  },
  {
   "cell_type": "code",
   "execution_count": 39,
   "id": "b31c1d7a",
   "metadata": {},
   "outputs": [],
   "source": [
    "data = pd.DataFrame(results1['title_results'])"
   ]
  },
  {
   "cell_type": "code",
   "execution_count": 40,
   "id": "5cc5bdbf",
   "metadata": {},
   "outputs": [
    {
     "data": {
      "text/html": [
       "<div>\n",
       "<style scoped>\n",
       "    .dataframe tbody tr th:only-of-type {\n",
       "        vertical-align: middle;\n",
       "    }\n",
       "\n",
       "    .dataframe tbody tr th {\n",
       "        vertical-align: top;\n",
       "    }\n",
       "\n",
       "    .dataframe thead th {\n",
       "        text-align: right;\n",
       "    }\n",
       "</style>\n",
       "<table border=\"1\" class=\"dataframe\">\n",
       "  <thead>\n",
       "    <tr style=\"text-align: right;\">\n",
       "      <th></th>\n",
       "      <th>resultType</th>\n",
       "      <th>id</th>\n",
       "      <th>name</th>\n",
       "      <th>type</th>\n",
       "      <th>year</th>\n",
       "      <th>imdb_id</th>\n",
       "      <th>tmdb_id</th>\n",
       "      <th>tmdb_type</th>\n",
       "    </tr>\n",
       "  </thead>\n",
       "  <tbody>\n",
       "    <tr>\n",
       "      <th>0</th>\n",
       "      <td>title</td>\n",
       "      <td>1394258</td>\n",
       "      <td>The Godfather</td>\n",
       "      <td>movie</td>\n",
       "      <td>1972</td>\n",
       "      <td>tt0068646</td>\n",
       "      <td>238</td>\n",
       "      <td>movie</td>\n",
       "    </tr>\n",
       "    <tr>\n",
       "      <th>1</th>\n",
       "      <td>title</td>\n",
       "      <td>1394267</td>\n",
       "      <td>The Godfather Part II</td>\n",
       "      <td>movie</td>\n",
       "      <td>1974</td>\n",
       "      <td>tt0071562</td>\n",
       "      <td>240</td>\n",
       "      <td>movie</td>\n",
       "    </tr>\n",
       "    <tr>\n",
       "      <th>2</th>\n",
       "      <td>title</td>\n",
       "      <td>1394268</td>\n",
       "      <td>The Godfather Part III</td>\n",
       "      <td>movie</td>\n",
       "      <td>1990</td>\n",
       "      <td>tt0099674</td>\n",
       "      <td>242</td>\n",
       "      <td>movie</td>\n",
       "    </tr>\n",
       "    <tr>\n",
       "      <th>3</th>\n",
       "      <td>title</td>\n",
       "      <td>544351</td>\n",
       "      <td>The Godfather Saga</td>\n",
       "      <td>tv_miniseries</td>\n",
       "      <td>1977</td>\n",
       "      <td>tt0809488</td>\n",
       "      <td>39651</td>\n",
       "      <td>tv</td>\n",
       "    </tr>\n",
       "    <tr>\n",
       "      <th>4</th>\n",
       "      <td>title</td>\n",
       "      <td>4104613</td>\n",
       "      <td>The Godfather Family: A Look Inside</td>\n",
       "      <td>tv_movie</td>\n",
       "      <td>1990</td>\n",
       "      <td>tt0101961</td>\n",
       "      <td>56205</td>\n",
       "      <td>movie</td>\n",
       "    </tr>\n",
       "    <tr>\n",
       "      <th>5</th>\n",
       "      <td>title</td>\n",
       "      <td>4104614</td>\n",
       "      <td>The Godfather Legacy</td>\n",
       "      <td>tv_movie</td>\n",
       "      <td>2012</td>\n",
       "      <td>tt2311160</td>\n",
       "      <td>294636</td>\n",
       "      <td>movie</td>\n",
       "    </tr>\n",
       "    <tr>\n",
       "      <th>6</th>\n",
       "      <td>title</td>\n",
       "      <td>2751251</td>\n",
       "      <td>The Godfather</td>\n",
       "      <td>short_film</td>\n",
       "      <td>2023</td>\n",
       "      <td>tt13652970</td>\n",
       "      <td>1050474</td>\n",
       "      <td>movie</td>\n",
       "    </tr>\n",
       "    <tr>\n",
       "      <th>7</th>\n",
       "      <td>title</td>\n",
       "      <td>1394269</td>\n",
       "      <td>The Godfathers of Hardcore</td>\n",
       "      <td>movie</td>\n",
       "      <td>2018</td>\n",
       "      <td>tt4659728</td>\n",
       "      <td>485918</td>\n",
       "      <td>movie</td>\n",
       "    </tr>\n",
       "    <tr>\n",
       "      <th>8</th>\n",
       "      <td>title</td>\n",
       "      <td>3194364</td>\n",
       "      <td>The Godfather</td>\n",
       "      <td>tv_series</td>\n",
       "      <td>2022</td>\n",
       "      <td>tt26629467</td>\n",
       "      <td>216645</td>\n",
       "      <td>tv</td>\n",
       "    </tr>\n",
       "    <tr>\n",
       "      <th>9</th>\n",
       "      <td>title</td>\n",
       "      <td>4104615</td>\n",
       "      <td>The Godfather and the Mob</td>\n",
       "      <td>tv_movie</td>\n",
       "      <td>2006</td>\n",
       "      <td>tt0819367</td>\n",
       "      <td>409523</td>\n",
       "      <td>movie</td>\n",
       "    </tr>\n",
       "    <tr>\n",
       "      <th>10</th>\n",
       "      <td>title</td>\n",
       "      <td>1582536</td>\n",
       "      <td>The Godfather and His Goddaughters</td>\n",
       "      <td>movie</td>\n",
       "      <td>1974</td>\n",
       "      <td>tt0070499</td>\n",
       "      <td>611802</td>\n",
       "      <td>movie</td>\n",
       "    </tr>\n",
       "    <tr>\n",
       "      <th>11</th>\n",
       "      <td>title</td>\n",
       "      <td>1553710</td>\n",
       "      <td>The Godfather's Friend</td>\n",
       "      <td>movie</td>\n",
       "      <td>1972</td>\n",
       "      <td>tt0068202</td>\n",
       "      <td>260892</td>\n",
       "      <td>movie</td>\n",
       "    </tr>\n",
       "    <tr>\n",
       "      <th>12</th>\n",
       "      <td>title</td>\n",
       "      <td>3122978</td>\n",
       "      <td>The Godfather</td>\n",
       "      <td>tv_series</td>\n",
       "      <td>2017</td>\n",
       "      <td>tt6439506</td>\n",
       "      <td>72989</td>\n",
       "      <td>tv</td>\n",
       "    </tr>\n",
       "    <tr>\n",
       "      <th>13</th>\n",
       "      <td>title</td>\n",
       "      <td>1394262</td>\n",
       "      <td>The Godfather of Green Bay</td>\n",
       "      <td>movie</td>\n",
       "      <td>2005</td>\n",
       "      <td>tt0385727</td>\n",
       "      <td>73725</td>\n",
       "      <td>movie</td>\n",
       "    </tr>\n",
       "    <tr>\n",
       "      <th>14</th>\n",
       "      <td>title</td>\n",
       "      <td>1664244</td>\n",
       "      <td>The Godfathers of Mondo</td>\n",
       "      <td>movie</td>\n",
       "      <td>2003</td>\n",
       "      <td>tt0384137</td>\n",
       "      <td>97227</td>\n",
       "      <td>movie</td>\n",
       "    </tr>\n",
       "    <tr>\n",
       "      <th>15</th>\n",
       "      <td>title</td>\n",
       "      <td>1576691</td>\n",
       "      <td>The Godfather of Disco</td>\n",
       "      <td>movie</td>\n",
       "      <td>2007</td>\n",
       "      <td>tt1067108</td>\n",
       "      <td>598173</td>\n",
       "      <td>movie</td>\n",
       "    </tr>\n",
       "    <tr>\n",
       "      <th>16</th>\n",
       "      <td>title</td>\n",
       "      <td>1669407</td>\n",
       "      <td>The Godfather: When the Shooting Stopped</td>\n",
       "      <td>movie</td>\n",
       "      <td>2008</td>\n",
       "      <td>tt5277996</td>\n",
       "      <td>779077</td>\n",
       "      <td>movie</td>\n",
       "    </tr>\n",
       "    <tr>\n",
       "      <th>17</th>\n",
       "      <td>title</td>\n",
       "      <td>1678630</td>\n",
       "      <td>The Godfather Buck</td>\n",
       "      <td>movie</td>\n",
       "      <td>2022</td>\n",
       "      <td>tt13593766</td>\n",
       "      <td>949766</td>\n",
       "      <td>movie</td>\n",
       "    </tr>\n",
       "    <tr>\n",
       "      <th>18</th>\n",
       "      <td>title</td>\n",
       "      <td>1752098</td>\n",
       "      <td>The Godfather Trilogy</td>\n",
       "      <td>movie</td>\n",
       "      <td>0</td>\n",
       "      <td></td>\n",
       "      <td>1188421</td>\n",
       "      <td>movie</td>\n",
       "    </tr>\n",
       "    <tr>\n",
       "      <th>19</th>\n",
       "      <td>title</td>\n",
       "      <td>2765621</td>\n",
       "      <td>The Godfather Comes to Sixth St.</td>\n",
       "      <td>short_film</td>\n",
       "      <td>1976</td>\n",
       "      <td>tt0073054</td>\n",
       "      <td>1193591</td>\n",
       "      <td>movie</td>\n",
       "    </tr>\n",
       "  </tbody>\n",
       "</table>\n",
       "</div>"
      ],
      "text/plain": [
       "   resultType       id                                      name  \\\n",
       "0       title  1394258                             The Godfather   \n",
       "1       title  1394267                     The Godfather Part II   \n",
       "2       title  1394268                    The Godfather Part III   \n",
       "3       title   544351                        The Godfather Saga   \n",
       "4       title  4104613       The Godfather Family: A Look Inside   \n",
       "5       title  4104614                      The Godfather Legacy   \n",
       "6       title  2751251                             The Godfather   \n",
       "7       title  1394269                The Godfathers of Hardcore   \n",
       "8       title  3194364                             The Godfather   \n",
       "9       title  4104615                 The Godfather and the Mob   \n",
       "10      title  1582536        The Godfather and His Goddaughters   \n",
       "11      title  1553710                    The Godfather's Friend   \n",
       "12      title  3122978                             The Godfather   \n",
       "13      title  1394262                The Godfather of Green Bay   \n",
       "14      title  1664244                   The Godfathers of Mondo   \n",
       "15      title  1576691                    The Godfather of Disco   \n",
       "16      title  1669407  The Godfather: When the Shooting Stopped   \n",
       "17      title  1678630                        The Godfather Buck   \n",
       "18      title  1752098                     The Godfather Trilogy   \n",
       "19      title  2765621          The Godfather Comes to Sixth St.   \n",
       "\n",
       "             type  year     imdb_id  tmdb_id tmdb_type  \n",
       "0           movie  1972   tt0068646      238     movie  \n",
       "1           movie  1974   tt0071562      240     movie  \n",
       "2           movie  1990   tt0099674      242     movie  \n",
       "3   tv_miniseries  1977   tt0809488    39651        tv  \n",
       "4        tv_movie  1990   tt0101961    56205     movie  \n",
       "5        tv_movie  2012   tt2311160   294636     movie  \n",
       "6      short_film  2023  tt13652970  1050474     movie  \n",
       "7           movie  2018   tt4659728   485918     movie  \n",
       "8       tv_series  2022  tt26629467   216645        tv  \n",
       "9        tv_movie  2006   tt0819367   409523     movie  \n",
       "10          movie  1974   tt0070499   611802     movie  \n",
       "11          movie  1972   tt0068202   260892     movie  \n",
       "12      tv_series  2017   tt6439506    72989        tv  \n",
       "13          movie  2005   tt0385727    73725     movie  \n",
       "14          movie  2003   tt0384137    97227     movie  \n",
       "15          movie  2007   tt1067108   598173     movie  \n",
       "16          movie  2008   tt5277996   779077     movie  \n",
       "17          movie  2022  tt13593766   949766     movie  \n",
       "18          movie     0              1188421     movie  \n",
       "19     short_film  1976   tt0073054  1193591     movie  "
      ]
     },
     "execution_count": 40,
     "metadata": {},
     "output_type": "execute_result"
    }
   ],
   "source": [
    "data"
   ]
  },
  {
   "cell_type": "code",
   "execution_count": 41,
   "id": "3fd31847",
   "metadata": {},
   "outputs": [],
   "source": [
    "# second"
   ]
  },
  {
   "cell_type": "code",
   "execution_count": 61,
   "id": "948883f4",
   "metadata": {},
   "outputs": [
    {
     "data": {
      "text/plain": [
       "<Response [200]>"
      ]
     },
     "execution_count": 61,
     "metadata": {},
     "output_type": "execute_result"
    }
   ],
   "source": [
    "response2 = requests.get('https://api.chucknorris.io/jokes/categories')\n",
    "response2"
   ]
  },
  {
   "cell_type": "code",
   "execution_count": 62,
   "id": "37eae24a",
   "metadata": {},
   "outputs": [
    {
     "data": {
      "text/plain": [
       "['animal',\n",
       " 'career',\n",
       " 'celebrity',\n",
       " 'dev',\n",
       " 'explicit',\n",
       " 'fashion',\n",
       " 'food',\n",
       " 'history',\n",
       " 'money',\n",
       " 'movie',\n",
       " 'music',\n",
       " 'political',\n",
       " 'religion',\n",
       " 'science',\n",
       " 'sport',\n",
       " 'travel']"
      ]
     },
     "execution_count": 62,
     "metadata": {},
     "output_type": "execute_result"
    }
   ],
   "source": [
    "results2 = response2.json()\n",
    "results2"
   ]
  },
  {
   "cell_type": "code",
   "execution_count": 63,
   "id": "4037dd2e",
   "metadata": {},
   "outputs": [],
   "source": [
    "response_animal = requests.get('https://api.chucknorris.io/jokes/random?category=animal')"
   ]
  },
  {
   "cell_type": "code",
   "execution_count": 45,
   "id": "8bfd9a3d",
   "metadata": {},
   "outputs": [
    {
     "data": {
      "text/plain": [
       "{'categories': ['animal'],\n",
       " 'created_at': '2020-01-05 13:42:19.576875',\n",
       " 'icon_url': 'https://assets.chucknorris.host/img/avatar/chuck-norris.png',\n",
       " 'id': '9ovbd5b1t66_x92jwrq1yq',\n",
       " 'updated_at': '2020-01-05 13:42:19.576875',\n",
       " 'url': 'https://api.chucknorris.io/jokes/9ovbd5b1t66_x92jwrq1yq',\n",
       " 'value': 'Chuck Norris once rode a bull, and nine months later it had a calf.'}"
      ]
     },
     "execution_count": 45,
     "metadata": {},
     "output_type": "execute_result"
    }
   ],
   "source": [
    "results_animal = response_animal.json()\n",
    "results_animal"
   ]
  },
  {
   "cell_type": "code",
   "execution_count": 46,
   "id": "823ab0bb",
   "metadata": {},
   "outputs": [
    {
     "data": {
      "text/plain": [
       "'Chuck Norris once rode a bull, and nine months later it had a calf.'"
      ]
     },
     "execution_count": 46,
     "metadata": {},
     "output_type": "execute_result"
    }
   ],
   "source": [
    "results_animal['value']"
   ]
  },
  {
   "cell_type": "code",
   "execution_count": 47,
   "id": "29c6f07a",
   "metadata": {},
   "outputs": [
    {
     "data": {
      "text/plain": [
       "'Chuck Norris once wanted a kitty cat....so he went to the zoo and purchased a tiger - he named his tiger Dick Cheney because it was such a big pussy.'"
      ]
     },
     "execution_count": 47,
     "metadata": {},
     "output_type": "execute_result"
    }
   ],
   "source": [
    "response_political = requests.get('https://api.chucknorris.io/jokes/random?category=political')\n",
    "results_political = response_political.json()\n",
    "results_political['value']"
   ]
  },
  {
   "cell_type": "code",
   "execution_count": 54,
   "id": "56ce3f7e",
   "metadata": {
    "scrolled": true
   },
   "outputs": [
    {
     "name": "stdout",
     "output_type": "stream",
     "text": [
      "The reason why Barack Obama hasn't came out and said he is a muslim is because Chuck Norris is still alive\n",
      "Chuck Norris is widely predicted to be first black president. If you're thinking to yourself, \"But Chuck Norris isn't black\", then you are dead wrong. And stop being a racist.\n",
      "Barack Obama recently stated that he considers it 'a great honour and privilege' to shine Chuck Norris' shoes every Wednesday.\n",
      "Chuck Norris doesn't believe in Germany.\n",
      "When Barack Obama said \"Yes we can,\" he actually was referring to Chuck Norris\n"
     ]
    }
   ],
   "source": [
    "for x in range(1,6):\n",
    "    response_political = requests.get('https://api.chucknorris.io/jokes/random?category=political')\n",
    "    results_political = response_political.json()\n",
    "    print(results_political['value'])\n",
    "   \n",
    "    "
   ]
  },
  {
   "cell_type": "code",
   "execution_count": 68,
   "id": "f12732fe",
   "metadata": {
    "scrolled": true
   },
   "outputs": [
    {
     "data": {
      "text/plain": [
       "{'categories': ['political'],\n",
       " 'created_at': '2020-01-05 13:42:25.628594',\n",
       " 'icon_url': 'https://assets.chucknorris.host/img/avatar/chuck-norris.png',\n",
       " 'id': 'IIkVw76ZRUqBwu-uln-RZA',\n",
       " 'updated_at': '2020-01-05 13:42:25.628594',\n",
       " 'url': 'https://api.chucknorris.io/jokes/IIkVw76ZRUqBwu-uln-RZA',\n",
       " 'value': 'Chuck Norris knows where Barack Obama was born.'}"
      ]
     },
     "execution_count": 68,
     "metadata": {},
     "output_type": "execute_result"
    }
   ],
   "source": [
    "response_political = requests.get('https://api.chucknorris.io/jokes/random?category=political')\n",
    "results_political = response_political.json()\n",
    "results_political"
   ]
  },
  {
   "cell_type": "code",
   "execution_count": 69,
   "id": "73f9cc05",
   "metadata": {
    "scrolled": true
   },
   "outputs": [
    {
     "data": {
      "text/html": [
       "<div>\n",
       "<style scoped>\n",
       "    .dataframe tbody tr th:only-of-type {\n",
       "        vertical-align: middle;\n",
       "    }\n",
       "\n",
       "    .dataframe tbody tr th {\n",
       "        vertical-align: top;\n",
       "    }\n",
       "\n",
       "    .dataframe thead th {\n",
       "        text-align: right;\n",
       "    }\n",
       "</style>\n",
       "<table border=\"1\" class=\"dataframe\">\n",
       "  <thead>\n",
       "    <tr style=\"text-align: right;\">\n",
       "      <th></th>\n",
       "      <th>0</th>\n",
       "    </tr>\n",
       "  </thead>\n",
       "  <tbody>\n",
       "    <tr>\n",
       "      <th>categories</th>\n",
       "      <td>political</td>\n",
       "    </tr>\n",
       "    <tr>\n",
       "      <th>created_at</th>\n",
       "      <td>2020-01-05 13:42:25.628594</td>\n",
       "    </tr>\n",
       "    <tr>\n",
       "      <th>icon_url</th>\n",
       "      <td>https://assets.chucknorris.host/img/avatar/chu...</td>\n",
       "    </tr>\n",
       "    <tr>\n",
       "      <th>id</th>\n",
       "      <td>IIkVw76ZRUqBwu-uln-RZA</td>\n",
       "    </tr>\n",
       "    <tr>\n",
       "      <th>updated_at</th>\n",
       "      <td>2020-01-05 13:42:25.628594</td>\n",
       "    </tr>\n",
       "    <tr>\n",
       "      <th>url</th>\n",
       "      <td>https://api.chucknorris.io/jokes/IIkVw76ZRUqBw...</td>\n",
       "    </tr>\n",
       "    <tr>\n",
       "      <th>value</th>\n",
       "      <td>Chuck Norris knows where Barack Obama was born.</td>\n",
       "    </tr>\n",
       "  </tbody>\n",
       "</table>\n",
       "</div>"
      ],
      "text/plain": [
       "                                                            0\n",
       "categories                                          political\n",
       "created_at                         2020-01-05 13:42:25.628594\n",
       "icon_url    https://assets.chucknorris.host/img/avatar/chu...\n",
       "id                                     IIkVw76ZRUqBwu-uln-RZA\n",
       "updated_at                         2020-01-05 13:42:25.628594\n",
       "url         https://api.chucknorris.io/jokes/IIkVw76ZRUqBw...\n",
       "value         Chuck Norris knows where Barack Obama was born."
      ]
     },
     "execution_count": 69,
     "metadata": {},
     "output_type": "execute_result"
    }
   ],
   "source": [
    "datax = pd.DataFrame(results_political).T\n",
    "datax"
   ]
  },
  {
   "cell_type": "code",
   "execution_count": 50,
   "id": "e396bf98",
   "metadata": {},
   "outputs": [],
   "source": [
    "# 3"
   ]
  },
  {
   "cell_type": "code",
   "execution_count": 19,
   "id": "ed6e3703",
   "metadata": {},
   "outputs": [
    {
     "data": {
      "text/plain": [
       "<Response [200]>"
      ]
     },
     "execution_count": 19,
     "metadata": {},
     "output_type": "execute_result"
    }
   ],
   "source": [
    "response_facts = requests.get('https://uselessfacts.jsph.pl//api/v2/facts/random')\n",
    "response_facts"
   ]
  },
  {
   "cell_type": "code",
   "execution_count": 71,
   "id": "bfc96699",
   "metadata": {},
   "outputs": [
    {
     "data": {
      "text/plain": [
       "'On the ground, a group of geese is a gaggle, in the sky it is a skein.'"
      ]
     },
     "execution_count": 71,
     "metadata": {},
     "output_type": "execute_result"
    }
   ],
   "source": [
    "results_facts = response_facts.json()\n",
    "results_facts['text']"
   ]
  },
  {
   "cell_type": "code",
   "execution_count": 25,
   "id": "a4740fe3",
   "metadata": {},
   "outputs": [
    {
     "name": "stdout",
     "output_type": "stream",
     "text": [
      "The crack of a whip is actually a tiny sonic boom, since the tip breaks the sound barrier.\n",
      "You burn more calories sleeping than you do watching TV.\n",
      "Every acre of American crops harvested contains 100 pounds of insects.\n",
      "Pearls melt in vinegar.\n",
      "On the ground, a group of geese is a gaggle, in the sky it is a skein.\n"
     ]
    }
   ],
   "source": [
    "for x in range (1,6):\n",
    "    response_facts = requests.get('https://uselessfacts.jsph.pl//api/v2/facts/random')\n",
    "    results_facts = response_facts.json()\n",
    "    print(results_facts['text'])\n",
    "    "
   ]
  },
  {
   "cell_type": "code",
   "execution_count": 84,
   "id": "d4bef4f9",
   "metadata": {},
   "outputs": [
    {
     "name": "stdout",
     "output_type": "stream",
     "text": [
      "[{'id': 'a0e7136a6995af3ccb1157f9dd7c5cb5', 'text': 'In 1778, fashionable women of Paris never went out in blustery weather without a lightning rod attached to their hats.', 'source': 'djtech.net', 'source_url': 'http://www.djtech.net/humor/useless_facts.htm', 'language': 'en', 'permalink': 'https://uselessfacts.jsph.pl/api/v2/facts/a0e7136a6995af3ccb1157f9dd7c5cb5'}]\n",
      "[{'id': 'a0e7136a6995af3ccb1157f9dd7c5cb5', 'text': 'In 1778, fashionable women of Paris never went out in blustery weather without a lightning rod attached to their hats.', 'source': 'djtech.net', 'source_url': 'http://www.djtech.net/humor/useless_facts.htm', 'language': 'en', 'permalink': 'https://uselessfacts.jsph.pl/api/v2/facts/a0e7136a6995af3ccb1157f9dd7c5cb5'}, {'id': 'c2e9454232719d4d9ccff379fc11700c', 'text': 'Caesar salad has nothing to do with any of the Caesars. It was first concocted in a bar in Tijuana, Mexico, in the 1920`s.', 'source': 'djtech.net', 'source_url': 'http://www.djtech.net/humor/useless_facts.htm', 'language': 'en', 'permalink': 'https://uselessfacts.jsph.pl/api/v2/facts/c2e9454232719d4d9ccff379fc11700c'}]\n",
      "[{'id': 'a0e7136a6995af3ccb1157f9dd7c5cb5', 'text': 'In 1778, fashionable women of Paris never went out in blustery weather without a lightning rod attached to their hats.', 'source': 'djtech.net', 'source_url': 'http://www.djtech.net/humor/useless_facts.htm', 'language': 'en', 'permalink': 'https://uselessfacts.jsph.pl/api/v2/facts/a0e7136a6995af3ccb1157f9dd7c5cb5'}, {'id': 'c2e9454232719d4d9ccff379fc11700c', 'text': 'Caesar salad has nothing to do with any of the Caesars. It was first concocted in a bar in Tijuana, Mexico, in the 1920`s.', 'source': 'djtech.net', 'source_url': 'http://www.djtech.net/humor/useless_facts.htm', 'language': 'en', 'permalink': 'https://uselessfacts.jsph.pl/api/v2/facts/c2e9454232719d4d9ccff379fc11700c'}, {'id': 'cf5c120b33a1c96d981bd8b21339ffa4', 'text': 'The symbol on the \"pound\" key (#) is called an octothorpe.. \\xa0', 'source': 'djtech.net', 'source_url': 'http://www.djtech.net/humor/useless_facts.htm', 'language': 'en', 'permalink': 'https://uselessfacts.jsph.pl/api/v2/facts/cf5c120b33a1c96d981bd8b21339ffa4'}]\n",
      "[{'id': 'a0e7136a6995af3ccb1157f9dd7c5cb5', 'text': 'In 1778, fashionable women of Paris never went out in blustery weather without a lightning rod attached to their hats.', 'source': 'djtech.net', 'source_url': 'http://www.djtech.net/humor/useless_facts.htm', 'language': 'en', 'permalink': 'https://uselessfacts.jsph.pl/api/v2/facts/a0e7136a6995af3ccb1157f9dd7c5cb5'}, {'id': 'c2e9454232719d4d9ccff379fc11700c', 'text': 'Caesar salad has nothing to do with any of the Caesars. It was first concocted in a bar in Tijuana, Mexico, in the 1920`s.', 'source': 'djtech.net', 'source_url': 'http://www.djtech.net/humor/useless_facts.htm', 'language': 'en', 'permalink': 'https://uselessfacts.jsph.pl/api/v2/facts/c2e9454232719d4d9ccff379fc11700c'}, {'id': 'cf5c120b33a1c96d981bd8b21339ffa4', 'text': 'The symbol on the \"pound\" key (#) is called an octothorpe.. \\xa0', 'source': 'djtech.net', 'source_url': 'http://www.djtech.net/humor/useless_facts.htm', 'language': 'en', 'permalink': 'https://uselessfacts.jsph.pl/api/v2/facts/cf5c120b33a1c96d981bd8b21339ffa4'}, {'id': 'e7927680a66cf2bd83dafde7bfdc3248', 'text': 'Between 2 and 3 jockeys are killed each year in horse racing.', 'source': 'djtech.net', 'source_url': 'http://www.djtech.net/humor/useless_facts.htm', 'language': 'en', 'permalink': 'https://uselessfacts.jsph.pl/api/v2/facts/e7927680a66cf2bd83dafde7bfdc3248'}]\n",
      "[{'id': 'a0e7136a6995af3ccb1157f9dd7c5cb5', 'text': 'In 1778, fashionable women of Paris never went out in blustery weather without a lightning rod attached to their hats.', 'source': 'djtech.net', 'source_url': 'http://www.djtech.net/humor/useless_facts.htm', 'language': 'en', 'permalink': 'https://uselessfacts.jsph.pl/api/v2/facts/a0e7136a6995af3ccb1157f9dd7c5cb5'}, {'id': 'c2e9454232719d4d9ccff379fc11700c', 'text': 'Caesar salad has nothing to do with any of the Caesars. It was first concocted in a bar in Tijuana, Mexico, in the 1920`s.', 'source': 'djtech.net', 'source_url': 'http://www.djtech.net/humor/useless_facts.htm', 'language': 'en', 'permalink': 'https://uselessfacts.jsph.pl/api/v2/facts/c2e9454232719d4d9ccff379fc11700c'}, {'id': 'cf5c120b33a1c96d981bd8b21339ffa4', 'text': 'The symbol on the \"pound\" key (#) is called an octothorpe.. \\xa0', 'source': 'djtech.net', 'source_url': 'http://www.djtech.net/humor/useless_facts.htm', 'language': 'en', 'permalink': 'https://uselessfacts.jsph.pl/api/v2/facts/cf5c120b33a1c96d981bd8b21339ffa4'}, {'id': 'e7927680a66cf2bd83dafde7bfdc3248', 'text': 'Between 2 and 3 jockeys are killed each year in horse racing.', 'source': 'djtech.net', 'source_url': 'http://www.djtech.net/humor/useless_facts.htm', 'language': 'en', 'permalink': 'https://uselessfacts.jsph.pl/api/v2/facts/e7927680a66cf2bd83dafde7bfdc3248'}, {'id': '734b8c7087c7fe8e9d2b85cde45100ff', 'text': 'When the University of Nebraska Cornhuskers play football at home, the stadium becomes the state`s third largest city.', 'source': 'djtech.net', 'source_url': 'http://www.djtech.net/humor/useless_facts.htm', 'language': 'en', 'permalink': 'https://uselessfacts.jsph.pl/api/v2/facts/734b8c7087c7fe8e9d2b85cde45100ff'}]\n"
     ]
    }
   ],
   "source": [
    "rows=[]\n",
    "for x in range (1,6):\n",
    "    response_facts = requests.get('https://uselessfacts.jsph.pl//api/v2/facts/random')\n",
    "    results_facts = response_facts.json()\n",
    "    rows.append(results_facts)\n",
    "    print(rows)"
   ]
  },
  {
   "cell_type": "code",
   "execution_count": 85,
   "id": "02e28fff",
   "metadata": {},
   "outputs": [
    {
     "data": {
      "text/html": [
       "<div>\n",
       "<style scoped>\n",
       "    .dataframe tbody tr th:only-of-type {\n",
       "        vertical-align: middle;\n",
       "    }\n",
       "\n",
       "    .dataframe tbody tr th {\n",
       "        vertical-align: top;\n",
       "    }\n",
       "\n",
       "    .dataframe thead th {\n",
       "        text-align: right;\n",
       "    }\n",
       "</style>\n",
       "<table border=\"1\" class=\"dataframe\">\n",
       "  <thead>\n",
       "    <tr style=\"text-align: right;\">\n",
       "      <th></th>\n",
       "      <th>id</th>\n",
       "      <th>text</th>\n",
       "      <th>source</th>\n",
       "      <th>source_url</th>\n",
       "      <th>language</th>\n",
       "      <th>permalink</th>\n",
       "    </tr>\n",
       "  </thead>\n",
       "  <tbody>\n",
       "    <tr>\n",
       "      <th>0</th>\n",
       "      <td>a0e7136a6995af3ccb1157f9dd7c5cb5</td>\n",
       "      <td>In 1778, fashionable women of Paris never went out in blustery weather without a lightning rod attached to their hats.</td>\n",
       "      <td>djtech.net</td>\n",
       "      <td>http://www.djtech.net/humor/useless_facts.htm</td>\n",
       "      <td>en</td>\n",
       "      <td>https://uselessfacts.jsph.pl/api/v2/facts/a0e7136a6995af3ccb1157f9dd7c5cb5</td>\n",
       "    </tr>\n",
       "    <tr>\n",
       "      <th>1</th>\n",
       "      <td>c2e9454232719d4d9ccff379fc11700c</td>\n",
       "      <td>Caesar salad has nothing to do with any of the Caesars. It was first concocted in a bar in Tijuana, Mexico, in the 1920`s.</td>\n",
       "      <td>djtech.net</td>\n",
       "      <td>http://www.djtech.net/humor/useless_facts.htm</td>\n",
       "      <td>en</td>\n",
       "      <td>https://uselessfacts.jsph.pl/api/v2/facts/c2e9454232719d4d9ccff379fc11700c</td>\n",
       "    </tr>\n",
       "    <tr>\n",
       "      <th>2</th>\n",
       "      <td>cf5c120b33a1c96d981bd8b21339ffa4</td>\n",
       "      <td>The symbol on the \"pound\" key (#) is called an octothorpe..</td>\n",
       "      <td>djtech.net</td>\n",
       "      <td>http://www.djtech.net/humor/useless_facts.htm</td>\n",
       "      <td>en</td>\n",
       "      <td>https://uselessfacts.jsph.pl/api/v2/facts/cf5c120b33a1c96d981bd8b21339ffa4</td>\n",
       "    </tr>\n",
       "    <tr>\n",
       "      <th>3</th>\n",
       "      <td>e7927680a66cf2bd83dafde7bfdc3248</td>\n",
       "      <td>Between 2 and 3 jockeys are killed each year in horse racing.</td>\n",
       "      <td>djtech.net</td>\n",
       "      <td>http://www.djtech.net/humor/useless_facts.htm</td>\n",
       "      <td>en</td>\n",
       "      <td>https://uselessfacts.jsph.pl/api/v2/facts/e7927680a66cf2bd83dafde7bfdc3248</td>\n",
       "    </tr>\n",
       "    <tr>\n",
       "      <th>4</th>\n",
       "      <td>734b8c7087c7fe8e9d2b85cde45100ff</td>\n",
       "      <td>When the University of Nebraska Cornhuskers play football at home, the stadium becomes the state`s third largest city.</td>\n",
       "      <td>djtech.net</td>\n",
       "      <td>http://www.djtech.net/humor/useless_facts.htm</td>\n",
       "      <td>en</td>\n",
       "      <td>https://uselessfacts.jsph.pl/api/v2/facts/734b8c7087c7fe8e9d2b85cde45100ff</td>\n",
       "    </tr>\n",
       "  </tbody>\n",
       "</table>\n",
       "</div>"
      ],
      "text/plain": [
       "                                 id  \\\n",
       "0  a0e7136a6995af3ccb1157f9dd7c5cb5   \n",
       "1  c2e9454232719d4d9ccff379fc11700c   \n",
       "2  cf5c120b33a1c96d981bd8b21339ffa4   \n",
       "3  e7927680a66cf2bd83dafde7bfdc3248   \n",
       "4  734b8c7087c7fe8e9d2b85cde45100ff   \n",
       "\n",
       "                                                                                                                         text  \\\n",
       "0      In 1778, fashionable women of Paris never went out in blustery weather without a lightning rod attached to their hats.   \n",
       "1  Caesar salad has nothing to do with any of the Caesars. It was first concocted in a bar in Tijuana, Mexico, in the 1920`s.   \n",
       "2                                                               The symbol on the \"pound\" key (#) is called an octothorpe..     \n",
       "3                                                               Between 2 and 3 jockeys are killed each year in horse racing.   \n",
       "4      When the University of Nebraska Cornhuskers play football at home, the stadium becomes the state`s third largest city.   \n",
       "\n",
       "       source                                     source_url language  \\\n",
       "0  djtech.net  http://www.djtech.net/humor/useless_facts.htm       en   \n",
       "1  djtech.net  http://www.djtech.net/humor/useless_facts.htm       en   \n",
       "2  djtech.net  http://www.djtech.net/humor/useless_facts.htm       en   \n",
       "3  djtech.net  http://www.djtech.net/humor/useless_facts.htm       en   \n",
       "4  djtech.net  http://www.djtech.net/humor/useless_facts.htm       en   \n",
       "\n",
       "                                                                    permalink  \n",
       "0  https://uselessfacts.jsph.pl/api/v2/facts/a0e7136a6995af3ccb1157f9dd7c5cb5  \n",
       "1  https://uselessfacts.jsph.pl/api/v2/facts/c2e9454232719d4d9ccff379fc11700c  \n",
       "2  https://uselessfacts.jsph.pl/api/v2/facts/cf5c120b33a1c96d981bd8b21339ffa4  \n",
       "3  https://uselessfacts.jsph.pl/api/v2/facts/e7927680a66cf2bd83dafde7bfdc3248  \n",
       "4  https://uselessfacts.jsph.pl/api/v2/facts/734b8c7087c7fe8e9d2b85cde45100ff  "
      ]
     },
     "execution_count": 85,
     "metadata": {},
     "output_type": "execute_result"
    }
   ],
   "source": [
    "df = pd.DataFrame(rows, columns=[\"id\", \"text\",\"source\", \"source_url\", \"language\", \"permalink\"])\n",
    "df"
   ]
  },
  {
   "cell_type": "code",
   "execution_count": 88,
   "id": "d7aaabfe",
   "metadata": {},
   "outputs": [
    {
     "data": {
      "text/plain": [
       "0        In 1778, fashionable women of Paris never went out in blustery weather without a lightning rod attached to their hats.\n",
       "1    Caesar salad has nothing to do with any of the Caesars. It was first concocted in a bar in Tijuana, Mexico, in the 1920`s.\n",
       "2                                                                 The symbol on the \"pound\" key (#) is called an octothorpe..  \n",
       "3                                                                 Between 2 and 3 jockeys are killed each year in horse racing.\n",
       "4        When the University of Nebraska Cornhuskers play football at home, the stadium becomes the state`s third largest city.\n",
       "Name: text, dtype: object"
      ]
     },
     "execution_count": 88,
     "metadata": {},
     "output_type": "execute_result"
    }
   ],
   "source": [
    "pd.options.display.max_colwidth=300\n",
    "df['text']"
   ]
  },
  {
   "cell_type": "code",
   "execution_count": null,
   "id": "3b4dc264",
   "metadata": {},
   "outputs": [],
   "source": []
  }
 ],
 "metadata": {
  "kernelspec": {
   "display_name": "Python 3 (ipykernel)",
   "language": "python",
   "name": "python3"
  },
  "language_info": {
   "codemirror_mode": {
    "name": "ipython",
    "version": 3
   },
   "file_extension": ".py",
   "mimetype": "text/x-python",
   "name": "python",
   "nbconvert_exporter": "python",
   "pygments_lexer": "ipython3",
   "version": "3.11.4"
  }
 },
 "nbformat": 4,
 "nbformat_minor": 5
}
